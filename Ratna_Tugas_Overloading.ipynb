{
  "nbformat": 4,
  "nbformat_minor": 0,
  "metadata": {
    "colab": {
      "provenance": [],
      "include_colab_link": true
    },
    "kernelspec": {
      "name": "python3",
      "display_name": "Python 3"
    },
    "language_info": {
      "name": "python"
    }
  },
  "cells": [
    {
      "cell_type": "markdown",
      "metadata": {
        "id": "view-in-github",
        "colab_type": "text"
      },
      "source": [
        "<a href=\"https://colab.research.google.com/github/Ratnanurmaulidya/pbo/blob/main/Ratna_Tugas_Overloading.ipynb\" target=\"_parent\"><img src=\"https://colab.research.google.com/assets/colab-badge.svg\" alt=\"Open In Colab\"/></a>"
      ]
    },
    {
      "cell_type": "code",
      "execution_count": 4,
      "metadata": {
        "id": "cytAUNWzM1-6"
      },
      "outputs": [],
      "source": [
        "#Buat Perkalian yang memiliki Sebuah fungsi dangan nama Hitung\n",
        "class Perkalian:\n",
        "  def hasil(self, a, b):\n",
        "    p = a * b\n",
        "    print(p)\n",
        "  def hasil(self, a, b, c):\n",
        "    p =a * b * c\n",
        "    print(p)\n",
        "\n",
        "  def hasil(self, *args):\n",
        "    kali = 1\n",
        "    for angka in args:\n",
        "        kali *= angka\n",
        "    print(kali)"
      ]
    },
    {
      "cell_type": "code",
      "source": [
        "#Buat main program\n",
        "coba = Perkalian()\n",
        "#Panggil fungsi Hitung untuk menghitung 2 parameter\n",
        "coba.hasil(1,2)\n",
        "#Panggil fungsi Hitung untuk menghitung 3 parameter\n",
        "coba.hasil(1,2,3)\n",
        "#Panggil fungsi Hitung untuk menghitung 4 parameter\n",
        "coba.hasil(1,2,3,4)"
      ],
      "metadata": {
        "id": "W9hN-kX7PDUI",
        "colab": {
          "base_uri": "https://localhost:8080/"
        },
        "outputId": "8ab74354-bcc6-4fdb-c6bf-4bbbb8db42d2"
      },
      "execution_count": 6,
      "outputs": [
        {
          "output_type": "stream",
          "name": "stdout",
          "text": [
            "2\n",
            "6\n",
            "24\n"
          ]
        }
      ]
    }
  ]
}